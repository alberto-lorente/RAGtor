{
 "cells": [
  {
   "cell_type": "code",
   "execution_count": null,
   "metadata": {},
   "outputs": [],
   "source": [
    "assert False"
   ]
  },
  {
   "cell_type": "markdown",
   "metadata": {},
   "source": [
    "# Converting PDFs to Images and Feeding it to Ollam"
   ]
  },
  {
   "cell_type": "code",
   "execution_count": 5,
   "metadata": {},
   "outputs": [],
   "source": [
    "from pdf2image import convert_from_path\n",
    "from PIL import Image\n",
    "import io\n",
    "\n",
    "def image_to_byte_array(image: Image) -> bytes:\n",
    "    # BytesIO is a file-like buffer stored in memory\n",
    "    imgByteArr = io.BytesIO()\n",
    "    # image.save expects a file-like as a argument\n",
    "    image.save(imgByteArr, format=image.format)\n",
    "    # Turn the BytesIO object back into a bytes object\n",
    "    imgByteArr = imgByteArr.getvalue()\n",
    "    return imgByteArr\n",
    "\n",
    "example_path = r\"C:\\Users\\alber\\Desktop\\Git Projects\\Council-Minutes\\Raptor\\council_raptor_rag\\data\\pdfs\\example.pdf\"\n",
    "\n",
    "images = convert_from_path(example_path)\n",
    "image = image_to_byte_array(images[0])\n"
   ]
  },
  {
   "cell_type": "code",
   "execution_count": 7,
   "metadata": {},
   "outputs": [
    {
     "name": "stdout",
     "output_type": "stream",
     "text": [
      "model='llava-phi3:latest' created_at='2025-05-12T08:23:01.1304132Z' done=True done_reason='stop' total_duration=31137778900 load_duration=13498822600 prompt_eval_count=592 prompt_eval_duration=2486126000 eval_count=151 eval_duration=14974132800 message=Message(role='assistant', content='The image features a scientific article from the journal \"Raouna Science Aquitaine\" published on April 1, 2003. The article appears to be written in French and discusses \"the effect of dietary fibers on the growth of Lactobacillus acidophilus\". It seems that this study was conducted by a team from Bordeaux University. The title of the article is \"La contribution des fibres à l\\'épithète du lait\" which translates to \"The contribution of fibers to the quality of milk\". The text in the image provides detailed information about the research and its findings, but it\\'s not possible to determine the specific content from the provided description.', images=None, tool_calls=None)\n"
     ]
    }
   ],
   "source": [
    "import ollama\n",
    "from load import load_env_vars\n",
    "\n",
    "\n",
    "response = ollama.chat(\n",
    "    model=\"llava-phi3:latest\",\n",
    "    messages=[{\n",
    "        'role': 'user',\n",
    "        'content': 'What is in this image?',\n",
    "        'images': [image]\n",
    "    }]\n",
    ")\n",
    "\n",
    "print(response)\n"
   ]
  },
  {
   "cell_type": "code",
   "execution_count": 10,
   "metadata": {},
   "outputs": [
    {
     "data": {
      "text/plain": [
       "'The image features a scientific article from the journal \"Raouna Science Aquitaine\" published on April 1, 2003. The article appears to be written in French and discusses \"the effect of dietary fibers on the growth of Lactobacillus acidophilus\". It seems that this study was conducted by a team from Bordeaux University. The title of the article is \"La contribution des fibres à l\\'épithète du lait\" which translates to \"The contribution of fibers to the quality of milk\". The text in the image provides detailed information about the research and its findings, but it\\'s not possible to determine the specific content from the provided description.'"
      ]
     },
     "execution_count": 10,
     "metadata": {},
     "output_type": "execute_result"
    }
   ],
   "source": [
    "response.message.content"
   ]
  },
  {
   "cell_type": "code",
   "execution_count": null,
   "metadata": {},
   "outputs": [],
   "source": [
    "assert False"
   ]
  }
 ],
 "metadata": {
  "kernelspec": {
   "display_name": "Python 3",
   "language": "python",
   "name": "python3"
  },
  "language_info": {
   "codemirror_mode": {
    "name": "ipython",
    "version": 3
   },
   "file_extension": ".py",
   "mimetype": "text/x-python",
   "name": "python",
   "nbconvert_exporter": "python",
   "pygments_lexer": "ipython3",
   "version": "3.12.0"
  }
 },
 "nbformat": 4,
 "nbformat_minor": 2
}
