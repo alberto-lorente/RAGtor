{
 "cells": [
  {
   "cell_type": "code",
   "execution_count": 2,
   "id": "59e4ab26",
   "metadata": {},
   "outputs": [
    {
     "name": "stderr",
     "output_type": "stream",
     "text": [
      "c:\\Users\\alber\\Desktop\\Git Projects\\Raptor\\venv\\Lib\\site-packages\\tqdm\\auto.py:21: TqdmWarning: IProgress not found. Please update jupyter and ipywidgets. See https://ipywidgets.readthedocs.io/en/stable/user_install.html\n",
      "  from .autonotebook import tqdm as notebook_tqdm\n"
     ]
    }
   ],
   "source": [
    "import os\n",
    "import json\n",
    "from pprint import pprint as pp\n",
    "\n",
    "from ragtor.rag import set_up_rag_db, load_vector_db\n",
    "from ragtor.config import PDFS_PATH, PDFS_LOADED_ID_FILE_PATH, VECTOR_DB_PATH, EMBEDDINGS_MODEL, PROMPTS, SUMMARY_OLLAMA_MODEL\n",
    "\n",
    "from ragtor.chunk_class import Chunk\n",
    "from ragtor.doc_class import Doc, compute_doc_emd_chunks\n",
    "from ragtor.clustering_utils import process_doc_clusters\n",
    "\n",
    "import ollama\n",
    "from langchain_text_splitters import RecursiveCharacterTextSplitter"
   ]
  },
  {
   "cell_type": "code",
   "execution_count": 3,
   "id": "fb8ea932",
   "metadata": {},
   "outputs": [],
   "source": [
    "vector_store = load_vector_db(VECTOR_DB_PATH)"
   ]
  },
  {
   "cell_type": "code",
   "execution_count": 5,
   "id": "daa738f0",
   "metadata": {},
   "outputs": [
    {
     "name": "stdout",
     "output_type": "stream",
     "text": [
      "Help on function raptor_search in module ragtor.rag:\n",
      "\n",
      "raptor_search(vector_store: langchain_community.vectorstores.faiss.FAISS, query: str, embeddings_model: str = 'Snowflake/snowflake-arctic-embed-s', k: int = 3) -> Union[List[langchain_core.documents.base.Document], List]\n",
      "\n"
     ]
    }
   ],
   "source": [
    "from ragtor.rag import raptor_search\n",
    "\n",
    "help(raptor_search)"
   ]
  },
  {
   "cell_type": "code",
   "execution_count": null,
   "id": "6b66bc04",
   "metadata": {},
   "outputs": [],
   "source": [
    "from langchain_community.vectorstores import FAISS\n",
    "from langchain_core.documents import Document\n",
    "from typing import List\n",
    "\n",
    "def raptor_search(vector_store:        FAISS,\n",
    "                    query:              str, \n",
    "                    embeddings_model:    str = EMBEDDINGS_MODEL, \n",
    "                    k:                  int = 3) -> List[Document] | List:\n",
    "\n",
    "    filter_args = {}\n",
    "    filter_args[\"chunk_type\"] = \"cluster_summary\"\n",
    "\n",
    "    print(filter_args)\n",
    "    results_cluster = vector_store.similarity_search_with_relevance_scores(\n",
    "        query,\n",
    "        k=10,\n",
    "        filter=filter_args)\n",
    "\n",
    "    print(results_cluster)\n",
    "    \n",
    "    try:\n",
    "        metadata = results_cluster[0].metadata\n",
    "        metadata = {k:v for k,v in metadata.items()}\n",
    "        metadata[\"chunk_type\"] = \"sents\"\n",
    "\n",
    "        results_sents = vector_store.similarity_search(\n",
    "        query,\n",
    "        k=k,\n",
    "        filter=metadata)\n",
    "\n",
    "    except Exception as e:\n",
    "        print(\"Raptor search not successful\")\n",
    "        print(e)\n",
    "        \n",
    "        return []\n",
    "        \n",
    "    return results_cluster + results_sents\n"
   ]
  },
  {
   "cell_type": "code",
   "execution_count": 20,
   "id": "0721e73a",
   "metadata": {},
   "outputs": [],
   "source": [
    "query=\"tell me about the inter miami match\""
   ]
  },
  {
   "cell_type": "code",
   "execution_count": 29,
   "id": "9328ed1a",
   "metadata": {},
   "outputs": [
    {
     "data": {
      "text/plain": [
       "{'chunk_doc_source': 'Al Ahly v Inter Miami _ Highlights, report and standings.pdf',\n",
       " 'chunk_source': 'Unknown',\n",
       " 'chunk_type': 'sent',\n",
       " 'chunking_emb_model': 'Snowflake/snowflake-arctic-embed-s'}"
      ]
     },
     "execution_count": 29,
     "metadata": {},
     "output_type": "execute_result"
    }
   ],
   "source": [
    "results_cluster = vector_store.similarity_search_with_relevance_scores(\n",
    "        query,\n",
    "        k=10,\n",
    "        # filter={\"chunk_type\": \"cluster_summary\"}\n",
    "        )\n",
    "results_cluster[0][0].metadata"
   ]
  },
  {
   "cell_type": "code",
   "execution_count": null,
   "id": "5ecb89e2",
   "metadata": {},
   "outputs": [
    {
     "name": "stdout",
     "output_type": "stream",
     "text": [
      "{'chunking_emb_model': 'Snowflake/snowflake-arctic-embed-s', 'chunk_type': 'cluster_summary'}\n",
      "[]\n",
      "Raptor search not successful\n",
      "list index out of range\n"
     ]
    },
    {
     "data": {
      "text/plain": [
       "[]"
      ]
     },
     "execution_count": 19,
     "metadata": {},
     "output_type": "execute_result"
    }
   ],
   "source": [
    "raptor_search(vector_store=vector_store,\n",
    "            query=query)"
   ]
  },
  {
   "cell_type": "code",
   "execution_count": 31,
   "id": "0d95c947",
   "metadata": {},
   "outputs": [
    {
     "name": "stdout",
     "output_type": "stream",
     "text": [
      "Unique metadata keys: {'chunk_doc_source', 'chunk_source', 'chunk_type', 'chunking_emb_model'}\n"
     ]
    }
   ],
   "source": [
    "docs = vector_store.docstore._dict.values()\n",
    "\n",
    "# Extract unique metadata attributes\n",
    "all_keys = set()\n",
    "for doc in docs:\n",
    "    if hasattr(doc, 'metadata'):\n",
    "        all_keys.update(doc.metadata.keys())\n",
    "\n",
    "print(\"Unique metadata keys:\", all_keys)\n"
   ]
  },
  {
   "cell_type": "code",
   "execution_count": 39,
   "id": "4a5a1856",
   "metadata": {},
   "outputs": [
    {
     "name": "stdout",
     "output_type": "stream",
     "text": [
      "Metadata field: chunk_doc_source\n",
      "Unique values: {'Al Ahly v Inter Miami _ Highlights, report and standings.pdf'}\n",
      "\n",
      "Metadata field: chunk_source\n",
      "Unique values: {'cluster_0', 'cluster_1', 'cluster_2', 'Unknown'}\n",
      "\n",
      "Metadata field: chunk_type\n",
      "Unique values: {'cluster_text', 'cluster_summary', 'chunk', 'sents', 'sent'}\n",
      "\n",
      "Metadata field: chunking_emb_model\n",
      "Unique values: {'Snowflake/snowflake-arctic-embed-s'}\n",
      "\n"
     ]
    }
   ],
   "source": [
    "from collections import defaultdict\n",
    "\n",
    "metadata_values = defaultdict(set)\n",
    "\n",
    "for doc in docs:\n",
    "    if hasattr(doc, \"metadata\") and doc.metadata:\n",
    "        for key, value in doc.metadata.items():\n",
    "            metadata_values[key].add(value)\n",
    "\n",
    "# Display all unique metadata values\n",
    "for key, values in metadata_values.items():\n",
    "    print(f\"Metadata field: {key}\")\n",
    "    print(f\"Unique values: {values}\\n\")\n"
   ]
  }
 ],
 "metadata": {
  "kernelspec": {
   "display_name": "venv",
   "language": "python",
   "name": "python3"
  },
  "language_info": {
   "codemirror_mode": {
    "name": "ipython",
    "version": 3
   },
   "file_extension": ".py",
   "mimetype": "text/x-python",
   "name": "python",
   "nbconvert_exporter": "python",
   "pygments_lexer": "ipython3",
   "version": "3.12.0"
  }
 },
 "nbformat": 4,
 "nbformat_minor": 5
}
