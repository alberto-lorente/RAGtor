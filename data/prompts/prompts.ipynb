{
 "cells": [
  {
   "cell_type": "code",
   "execution_count": 3,
   "id": "691d3123",
   "metadata": {},
   "outputs": [],
   "source": [
    "import json"
   ]
  },
  {
   "cell_type": "code",
   "execution_count": 4,
   "id": "b7760474",
   "metadata": {},
   "outputs": [],
   "source": [
    "prompts = {}"
   ]
  },
  {
   "cell_type": "markdown",
   "id": "839243af",
   "metadata": {},
   "source": [
    "# Summary Prompt"
   ]
  },
  {
   "cell_type": "code",
   "execution_count": 5,
   "id": "58a93aaa",
   "metadata": {},
   "outputs": [],
   "source": [
    "summary_prompt = \"\"\"INSTRUCTIONS: Make a summary of this text. Include key details and key points. Do not make the summary overly long or use complicated language.\n",
    "OUTPUT FORMAT: output your summary as a string directly.\n",
    "\n",
    "TEXT: {}\n",
    "\"\"\""
   ]
  },
  {
   "cell_type": "markdown",
   "id": "a3dff7f3",
   "metadata": {},
   "source": [
    "# Query Prompt"
   ]
  },
  {
   "cell_type": "code",
   "execution_count": 6,
   "id": "66a10b56",
   "metadata": {},
   "outputs": [],
   "source": [
    "query_prompt = \"\"\"INSTRUCTIONS: Make a summary of this text. Include key details and key points. Do not make the summary overly long or use complicated language.\n",
    "OUTPUT FORMAT: output your summary as a string directly.\n",
    "\n",
    "TEXT: {}\n",
    "\"\"\""
   ]
  },
  {
   "cell_type": "markdown",
   "id": "326d6230",
   "metadata": {},
   "source": [
    "# VLM Prompt"
   ]
  },
  {
   "cell_type": "code",
   "execution_count": 7,
   "id": "f6d9c1aa",
   "metadata": {},
   "outputs": [],
   "source": [
    "vlm_prompt = \"\"\"INSTRUCTIONS: Detail what you see in the picture. If it is a table, describe what the table is about, the columns and the rows as well as the content of each cell.\n",
    "OUTPUT FORMAT: output your description as a string directly.\n",
    "\"\"\""
   ]
  },
  {
   "cell_type": "markdown",
   "id": "e3b0bfd2",
   "metadata": {},
   "source": [
    "# Augmented Generation Prompt"
   ]
  },
  {
   "cell_type": "code",
   "execution_count": 8,
   "id": "8a5a3263",
   "metadata": {},
   "outputs": [],
   "source": [
    "augmented_generation_prompt = \"\"\"INSTRUCTIONS: Answer the question based on the key points provided that may be relevant to the question. Ignore any other information in the key points that is not relevant to the question.\n",
    "QUESTION: {}\n",
    "KEY POINTS:{}\n",
    "OUTPUT FORMAT: output your answer as a string directly.\n",
    "\"\"\""
   ]
  },
  {
   "cell_type": "markdown",
   "id": "bd3562d2",
   "metadata": {},
   "source": [
    "# Putting everything together"
   ]
  },
  {
   "cell_type": "code",
   "execution_count": 9,
   "id": "af13be4a",
   "metadata": {},
   "outputs": [],
   "source": [
    "prompts\t= {\n",
    "\t\"summary_prompt\": summary_prompt,\n",
    "\t\"vlm_prompt\": vlm_prompt,\n",
    "\t\"augmented_generation_prompt\": augmented_generation_prompt\n",
    "}"
   ]
  },
  {
   "cell_type": "code",
   "execution_count": 10,
   "id": "33303b63",
   "metadata": {},
   "outputs": [],
   "source": [
    "with open(\"prompts.json\", \"w\") as f:\n",
    "    json.dump(prompts, f, indent=4)"
   ]
  }
 ],
 "metadata": {
  "kernelspec": {
   "display_name": "Python 3",
   "language": "python",
   "name": "python3"
  },
  "language_info": {
   "codemirror_mode": {
    "name": "ipython",
    "version": 3
   },
   "file_extension": ".py",
   "mimetype": "text/x-python",
   "name": "python",
   "nbconvert_exporter": "python",
   "pygments_lexer": "ipython3",
   "version": "3.12.0"
  }
 },
 "nbformat": 4,
 "nbformat_minor": 5
}
